{
 "cells": [
  {
   "cell_type": "markdown",
   "id": "2f8c5514",
   "metadata": {},
   "source": [
    "# v4"
   ]
  },
  {
   "cell_type": "code",
   "execution_count": 11,
   "id": "92a4940d",
   "metadata": {},
   "outputs": [
    {
     "name": "stderr",
     "output_type": "stream",
     "text": [
      "/home/anli/Desktop/art-tts/.venv/lib/python3.12/site-packages/tqdm/auto.py:21: TqdmWarning: IProgress not found. Please update jupyter and ipywidgets. See https://ipywidgets.readthedocs.io/en/stable/user_install.html\n",
      "  from .autonotebook import tqdm as notebook_tqdm\n"
     ]
    },
    {
     "ename": "KeyboardInterrupt",
     "evalue": "",
     "output_type": "error",
     "traceback": [
      "\u001b[31m---------------------------------------------------------------------------\u001b[39m",
      "\u001b[31mKeyboardInterrupt\u001b[39m                         Traceback (most recent call last)",
      "\u001b[36mCell\u001b[39m\u001b[36m \u001b[39m\u001b[32mIn[11]\u001b[39m\u001b[32m, line 6\u001b[39m\n\u001b[32m      3\u001b[39m \u001b[38;5;28;01mfrom\u001b[39;00m\u001b[38;5;250m \u001b[39m\u001b[34;01mpathlib\u001b[39;00m\u001b[38;5;250m \u001b[39m\u001b[38;5;28;01mimport\u001b[39;00m Path\n\u001b[32m      5\u001b[39m \u001b[38;5;28;01mfrom\u001b[39;00m\u001b[38;5;250m \u001b[39m\u001b[34;01mconfigs\u001b[39;00m\u001b[38;5;250m \u001b[39m\u001b[38;5;28;01mimport\u001b[39;00m params_v4\n\u001b[32m----> \u001b[39m\u001b[32m6\u001b[39m \u001b[38;5;28;01mfrom\u001b[39;00m\u001b[38;5;250m \u001b[39m\u001b[34;01mdata_textart\u001b[39;00m\u001b[38;5;250m \u001b[39m\u001b[38;5;28;01mimport\u001b[39;00m (\n\u001b[32m      7\u001b[39m     TextArtDataset,\n\u001b[32m      8\u001b[39m     TextArtBatchCollate,\n\u001b[32m      9\u001b[39m     TextBatchCollate,\n\u001b[32m     10\u001b[39m )\n\u001b[32m     11\u001b[39m \u001b[38;5;28;01mfrom\u001b[39;00m\u001b[38;5;250m \u001b[39m\u001b[34;01mmodel\u001b[39;00m\u001b[38;5;250m \u001b[39m\u001b[38;5;28;01mimport\u001b[39;00m GradTTS\n\u001b[32m     12\u001b[39m \u001b[38;5;28;01mfrom\u001b[39;00m\u001b[38;5;250m \u001b[39m\u001b[34;01mtorch\u001b[39;00m\u001b[34;01m.\u001b[39;00m\u001b[34;01mutils\u001b[39;00m\u001b[34;01m.\u001b[39;00m\u001b[34;01mdata\u001b[39;00m\u001b[38;5;250m \u001b[39m\u001b[38;5;28;01mimport\u001b[39;00m DataLoader\n",
      "\u001b[36mFile \u001b[39m\u001b[32m~/Desktop/art-tts/src/data_textart.py:17\u001b[39m\n\u001b[32m     14\u001b[39m \u001b[38;5;28;01mfrom\u001b[39;00m\u001b[38;5;250m \u001b[39m\u001b[34;01mtyping\u001b[39;00m\u001b[38;5;250m \u001b[39m\u001b[38;5;28;01mimport\u001b[39;00m List, Tuple\n\u001b[32m     15\u001b[39m \u001b[38;5;28;01mfrom\u001b[39;00m\u001b[38;5;250m \u001b[39m\u001b[34;01mpathlib\u001b[39;00m\u001b[38;5;250m \u001b[39m\u001b[38;5;28;01mimport\u001b[39;00m Path\n\u001b[32m---> \u001b[39m\u001b[32m17\u001b[39m \u001b[38;5;28;01mfrom\u001b[39;00m\u001b[38;5;250m \u001b[39m\u001b[34;01msparc\u001b[39;00m\u001b[38;5;250m \u001b[39m\u001b[38;5;28;01mimport\u001b[39;00m load_model\n\u001b[32m     19\u001b[39m \u001b[38;5;28;01mfrom\u001b[39;00m\u001b[38;5;250m \u001b[39m\u001b[34;01mtext\u001b[39;00m\u001b[38;5;250m \u001b[39m\u001b[38;5;28;01mimport\u001b[39;00m text_to_sequence, cmudict\n\u001b[32m     20\u001b[39m \u001b[38;5;28;01mfrom\u001b[39;00m\u001b[38;5;250m \u001b[39m\u001b[34;01mtext\u001b[39;00m\u001b[34;01m.\u001b[39;00m\u001b[34;01mconverters\u001b[39;00m\u001b[38;5;250m \u001b[39m\u001b[38;5;28;01mimport\u001b[39;00m text_to_arpabet\n",
      "\u001b[36mFile \u001b[39m\u001b[32m~/Desktop/art-tts/src/sparc/__init__.py:1\u001b[39m\n\u001b[32m----> \u001b[39m\u001b[32m1\u001b[39m \u001b[38;5;28;01mfrom\u001b[39;00m\u001b[38;5;250m \u001b[39m\u001b[34;01m.\u001b[39;00m\u001b[34;01msparc\u001b[39;00m\u001b[38;5;250m \u001b[39m\u001b[38;5;28;01mimport\u001b[39;00m *\n",
      "\u001b[36mFile \u001b[39m\u001b[32m~/Desktop/art-tts/src/sparc/sparc.py:4\u001b[39m\n\u001b[32m      2\u001b[39m \u001b[38;5;28;01mimport\u001b[39;00m\u001b[38;5;250m \u001b[39m\u001b[34;01mnumpy\u001b[39;00m\u001b[38;5;250m \u001b[39m\u001b[38;5;28;01mas\u001b[39;00m\u001b[38;5;250m \u001b[39m\u001b[34;01mnp\u001b[39;00m\n\u001b[32m      3\u001b[39m \u001b[38;5;28;01mfrom\u001b[39;00m\u001b[38;5;250m \u001b[39m\u001b[34;01m.\u001b[39;00m\u001b[34;01mspeech\u001b[39;00m\u001b[38;5;250m \u001b[39m\u001b[38;5;28;01mimport\u001b[39;00m BaseExtractor, SpeechWave\n\u001b[32m----> \u001b[39m\u001b[32m4\u001b[39m \u001b[38;5;28;01mfrom\u001b[39;00m\u001b[38;5;250m \u001b[39m\u001b[34;01m.\u001b[39;00m\u001b[34;01minversion\u001b[39;00m\u001b[38;5;250m \u001b[39m\u001b[38;5;28;01mimport\u001b[39;00m Inversion\n\u001b[32m      5\u001b[39m \u001b[38;5;28;01mfrom\u001b[39;00m\u001b[38;5;250m \u001b[39m\u001b[34;01m.\u001b[39;00m\u001b[34;01msrc_extractor\u001b[39;00m\u001b[38;5;250m \u001b[39m\u001b[38;5;28;01mimport\u001b[39;00m SourceExtractor\n\u001b[32m      6\u001b[39m \u001b[38;5;28;01mfrom\u001b[39;00m\u001b[38;5;250m \u001b[39m\u001b[34;01m.\u001b[39;00m\u001b[34;01mspk_encoder\u001b[39;00m\u001b[38;5;250m \u001b[39m\u001b[38;5;28;01mimport\u001b[39;00m SpeakerEncoder\n",
      "\u001b[36mFile \u001b[39m\u001b[32m~/Desktop/art-tts/src/sparc/inversion.py:6\u001b[39m\n\u001b[32m      4\u001b[39m \u001b[38;5;28;01mimport\u001b[39;00m\u001b[38;5;250m \u001b[39m\u001b[34;01mpickle\u001b[39;00m\n\u001b[32m      5\u001b[39m \u001b[38;5;28;01mfrom\u001b[39;00m\u001b[38;5;250m \u001b[39m\u001b[34;01mscipy\u001b[39;00m\u001b[34;01m.\u001b[39;00m\u001b[34;01msignal\u001b[39;00m\u001b[38;5;250m \u001b[39m\u001b[38;5;28;01mimport\u001b[39;00m butter, lfilter, filtfilt, resample\n\u001b[32m----> \u001b[39m\u001b[32m6\u001b[39m \u001b[38;5;28;01mfrom\u001b[39;00m\u001b[38;5;250m \u001b[39m\u001b[34;01mtransformers\u001b[39;00m\u001b[38;5;250m \u001b[39m\u001b[38;5;28;01mimport\u001b[39;00m Wav2Vec2Processor, Wav2Vec2Model, HubertModel, WavLMModel\n\u001b[32m      7\u001b[39m \u001b[38;5;28;01mfrom\u001b[39;00m\u001b[38;5;250m \u001b[39m\u001b[34;01m.\u001b[39;00m\u001b[34;01mspeech\u001b[39;00m\u001b[38;5;250m \u001b[39m\u001b[38;5;28;01mimport\u001b[39;00m BaseExtractor, SpeechWave\n\u001b[32m      8\u001b[39m \u001b[38;5;28;01mimport\u001b[39;00m\u001b[38;5;250m \u001b[39m\u001b[34;01mtorch\u001b[39;00m\u001b[34;01m.\u001b[39;00m\u001b[34;01mnn\u001b[39;00m\u001b[38;5;250m \u001b[39m\u001b[38;5;28;01mas\u001b[39;00m\u001b[38;5;250m \u001b[39m\u001b[34;01mnn\u001b[39;00m\n",
      "\u001b[36mFile \u001b[39m\u001b[32m<frozen importlib._bootstrap>:1412\u001b[39m, in \u001b[36m_handle_fromlist\u001b[39m\u001b[34m(module, fromlist, import_, recursive)\u001b[39m\n",
      "\u001b[36mFile \u001b[39m\u001b[32m~/Desktop/art-tts/.venv/lib/python3.12/site-packages/transformers/utils/import_utils.py:2154\u001b[39m, in \u001b[36m_LazyModule.__getattr__\u001b[39m\u001b[34m(self, name)\u001b[39m\n\u001b[32m   2152\u001b[39m \u001b[38;5;28;01melif\u001b[39;00m name \u001b[38;5;129;01min\u001b[39;00m \u001b[38;5;28mself\u001b[39m._class_to_module.keys():\n\u001b[32m   2153\u001b[39m     \u001b[38;5;28;01mtry\u001b[39;00m:\n\u001b[32m-> \u001b[39m\u001b[32m2154\u001b[39m         module = \u001b[38;5;28;43mself\u001b[39;49m\u001b[43m.\u001b[49m\u001b[43m_get_module\u001b[49m\u001b[43m(\u001b[49m\u001b[38;5;28;43mself\u001b[39;49m\u001b[43m.\u001b[49m\u001b[43m_class_to_module\u001b[49m\u001b[43m[\u001b[49m\u001b[43mname\u001b[49m\u001b[43m]\u001b[49m\u001b[43m)\u001b[49m\n\u001b[32m   2155\u001b[39m         value = \u001b[38;5;28mgetattr\u001b[39m(module, name)\n\u001b[32m   2156\u001b[39m     \u001b[38;5;28;01mexcept\u001b[39;00m (\u001b[38;5;167;01mModuleNotFoundError\u001b[39;00m, \u001b[38;5;167;01mRuntimeError\u001b[39;00m) \u001b[38;5;28;01mas\u001b[39;00m e:\n",
      "\u001b[36mFile \u001b[39m\u001b[32m~/Desktop/art-tts/.venv/lib/python3.12/site-packages/transformers/utils/import_utils.py:2182\u001b[39m, in \u001b[36m_LazyModule._get_module\u001b[39m\u001b[34m(self, module_name)\u001b[39m\n\u001b[32m   2180\u001b[39m \u001b[38;5;28;01mdef\u001b[39;00m\u001b[38;5;250m \u001b[39m\u001b[34m_get_module\u001b[39m(\u001b[38;5;28mself\u001b[39m, module_name: \u001b[38;5;28mstr\u001b[39m):\n\u001b[32m   2181\u001b[39m     \u001b[38;5;28;01mtry\u001b[39;00m:\n\u001b[32m-> \u001b[39m\u001b[32m2182\u001b[39m         \u001b[38;5;28;01mreturn\u001b[39;00m \u001b[43mimportlib\u001b[49m\u001b[43m.\u001b[49m\u001b[43mimport_module\u001b[49m\u001b[43m(\u001b[49m\u001b[33;43m\"\u001b[39;49m\u001b[33;43m.\u001b[39;49m\u001b[33;43m\"\u001b[39;49m\u001b[43m \u001b[49m\u001b[43m+\u001b[49m\u001b[43m \u001b[49m\u001b[43mmodule_name\u001b[49m\u001b[43m,\u001b[49m\u001b[43m \u001b[49m\u001b[38;5;28;43mself\u001b[39;49m\u001b[43m.\u001b[49m\u001b[34;43m__name__\u001b[39;49m\u001b[43m)\u001b[49m\n\u001b[32m   2183\u001b[39m     \u001b[38;5;28;01mexcept\u001b[39;00m \u001b[38;5;167;01mException\u001b[39;00m \u001b[38;5;28;01mas\u001b[39;00m e:\n\u001b[32m   2184\u001b[39m         \u001b[38;5;28;01mraise\u001b[39;00m e\n",
      "\u001b[36mFile \u001b[39m\u001b[32m~/.local/share/uv/python/cpython-3.12.10-linux-x86_64-gnu/lib/python3.12/importlib/__init__.py:90\u001b[39m, in \u001b[36mimport_module\u001b[39m\u001b[34m(name, package)\u001b[39m\n\u001b[32m     88\u001b[39m             \u001b[38;5;28;01mbreak\u001b[39;00m\n\u001b[32m     89\u001b[39m         level += \u001b[32m1\u001b[39m\n\u001b[32m---> \u001b[39m\u001b[32m90\u001b[39m \u001b[38;5;28;01mreturn\u001b[39;00m \u001b[43m_bootstrap\u001b[49m\u001b[43m.\u001b[49m\u001b[43m_gcd_import\u001b[49m\u001b[43m(\u001b[49m\u001b[43mname\u001b[49m\u001b[43m[\u001b[49m\u001b[43mlevel\u001b[49m\u001b[43m:\u001b[49m\u001b[43m]\u001b[49m\u001b[43m,\u001b[49m\u001b[43m \u001b[49m\u001b[43mpackage\u001b[49m\u001b[43m,\u001b[49m\u001b[43m \u001b[49m\u001b[43mlevel\u001b[49m\u001b[43m)\u001b[49m\n",
      "\u001b[36mFile \u001b[39m\u001b[32m~/Desktop/art-tts/.venv/lib/python3.12/site-packages/transformers/models/wav2vec2/processing_wav2vec2.py:23\u001b[39m\n\u001b[32m     20\u001b[39m \u001b[38;5;28;01mfrom\u001b[39;00m\u001b[38;5;250m \u001b[39m\u001b[34;01mcontextlib\u001b[39;00m\u001b[38;5;250m \u001b[39m\u001b[38;5;28;01mimport\u001b[39;00m contextmanager\n\u001b[32m     21\u001b[39m \u001b[38;5;28;01mfrom\u001b[39;00m\u001b[38;5;250m \u001b[39m\u001b[34;01mtyping\u001b[39;00m\u001b[38;5;250m \u001b[39m\u001b[38;5;28;01mimport\u001b[39;00m Optional, Union\n\u001b[32m---> \u001b[39m\u001b[32m23\u001b[39m \u001b[38;5;28;01mfrom\u001b[39;00m\u001b[38;5;250m \u001b[39m\u001b[34;01m.\u001b[39;00m\u001b[34;01m.\u001b[39;00m\u001b[34;01m.\u001b[39;00m\u001b[34;01mprocessing_utils\u001b[39;00m\u001b[38;5;250m \u001b[39m\u001b[38;5;28;01mimport\u001b[39;00m ProcessingKwargs, ProcessorMixin, Unpack\n\u001b[32m     24\u001b[39m \u001b[38;5;28;01mfrom\u001b[39;00m\u001b[38;5;250m \u001b[39m\u001b[34;01m.\u001b[39;00m\u001b[34;01m.\u001b[39;00m\u001b[34;01m.\u001b[39;00m\u001b[34;01mtokenization_utils_base\u001b[39;00m\u001b[38;5;250m \u001b[39m\u001b[38;5;28;01mimport\u001b[39;00m AudioInput, PreTokenizedInput, TextInput\n\u001b[32m     25\u001b[39m \u001b[38;5;28;01mfrom\u001b[39;00m\u001b[38;5;250m \u001b[39m\u001b[34;01m.\u001b[39;00m\u001b[34;01mfeature_extraction_wav2vec2\u001b[39;00m\u001b[38;5;250m \u001b[39m\u001b[38;5;28;01mimport\u001b[39;00m Wav2Vec2FeatureExtractor\n",
      "\u001b[36mFile \u001b[39m\u001b[32m~/Desktop/art-tts/.venv/lib/python3.12/site-packages/transformers/processing_utils.py:38\u001b[39m\n\u001b[32m     36\u001b[39m \u001b[38;5;28;01mfrom\u001b[39;00m\u001b[38;5;250m \u001b[39m\u001b[34;01m.\u001b[39;00m\u001b[34;01mimage_utils\u001b[39;00m\u001b[38;5;250m \u001b[39m\u001b[38;5;28;01mimport\u001b[39;00m ChannelDimension, is_valid_image, is_vision_available, load_image\n\u001b[32m     37\u001b[39m \u001b[38;5;28;01mfrom\u001b[39;00m\u001b[38;5;250m \u001b[39m\u001b[34;01m.\u001b[39;00m\u001b[34;01mutils\u001b[39;00m\u001b[34;01m.\u001b[39;00m\u001b[34;01mchat_template_utils\u001b[39;00m\u001b[38;5;250m \u001b[39m\u001b[38;5;28;01mimport\u001b[39;00m render_jinja_template\n\u001b[32m---> \u001b[39m\u001b[32m38\u001b[39m \u001b[38;5;28;01mfrom\u001b[39;00m\u001b[38;5;250m \u001b[39m\u001b[34;01m.\u001b[39;00m\u001b[34;01mvideo_utils\u001b[39;00m\u001b[38;5;250m \u001b[39m\u001b[38;5;28;01mimport\u001b[39;00m VideoMetadata, load_video\n\u001b[32m     41\u001b[39m \u001b[38;5;28;01mif\u001b[39;00m is_vision_available():\n\u001b[32m     42\u001b[39m     \u001b[38;5;28;01mfrom\u001b[39;00m\u001b[38;5;250m \u001b[39m\u001b[34;01m.\u001b[39;00m\u001b[34;01mimage_utils\u001b[39;00m\u001b[38;5;250m \u001b[39m\u001b[38;5;28;01mimport\u001b[39;00m PILImageResampling\n",
      "\u001b[36mFile \u001b[39m\u001b[32m~/Desktop/art-tts/.venv/lib/python3.12/site-packages/transformers/video_utils.py:60\u001b[39m\n\u001b[32m     54\u001b[39m     \u001b[38;5;28;01mimport\u001b[39;00m\u001b[38;5;250m \u001b[39m\u001b[34;01mtorch\u001b[39;00m\n\u001b[32m     57\u001b[39m logger = logging.get_logger(\u001b[34m__name__\u001b[39m)\n\u001b[32m---> \u001b[39m\u001b[32m60\u001b[39m VideoInput = \u001b[43mUnion\u001b[49m\u001b[43m[\u001b[49m\n\u001b[32m     61\u001b[39m \u001b[43m    \u001b[49m\u001b[38;5;28;43mlist\u001b[39;49m\u001b[43m[\u001b[49m\u001b[33;43m\"\u001b[39;49m\u001b[33;43mPIL.Image.Image\u001b[39;49m\u001b[33;43m\"\u001b[39;49m\u001b[43m]\u001b[49m\u001b[43m,\u001b[49m\n\u001b[32m     62\u001b[39m \u001b[43m    \u001b[49m\u001b[33;43m\"\u001b[39;49m\u001b[33;43mnp.ndarray\u001b[39;49m\u001b[33;43m\"\u001b[39;49m\u001b[43m,\u001b[49m\n\u001b[32m     63\u001b[39m \u001b[43m    \u001b[49m\u001b[33;43m\"\u001b[39;49m\u001b[33;43mtorch.Tensor\u001b[39;49m\u001b[33;43m\"\u001b[39;49m\u001b[43m,\u001b[49m\n\u001b[32m     64\u001b[39m \u001b[43m    \u001b[49m\u001b[38;5;28;43mlist\u001b[39;49m\u001b[43m[\u001b[49m\u001b[33;43m\"\u001b[39;49m\u001b[33;43mnp.ndarray\u001b[39;49m\u001b[33;43m\"\u001b[39;49m\u001b[43m]\u001b[49m\u001b[43m,\u001b[49m\n\u001b[32m     65\u001b[39m \u001b[43m    \u001b[49m\u001b[38;5;28;43mlist\u001b[39;49m\u001b[43m[\u001b[49m\u001b[33;43m\"\u001b[39;49m\u001b[33;43mtorch.Tensor\u001b[39;49m\u001b[33;43m\"\u001b[39;49m\u001b[43m]\u001b[49m\u001b[43m,\u001b[49m\n\u001b[32m     66\u001b[39m \u001b[43m    \u001b[49m\u001b[38;5;28;43mlist\u001b[39;49m\u001b[43m[\u001b[49m\u001b[38;5;28;43mlist\u001b[39;49m\u001b[43m[\u001b[49m\u001b[33;43m\"\u001b[39;49m\u001b[33;43mPIL.Image.Image\u001b[39;49m\u001b[33;43m\"\u001b[39;49m\u001b[43m]\u001b[49m\u001b[43m]\u001b[49m\u001b[43m,\u001b[49m\n\u001b[32m     67\u001b[39m \u001b[43m    \u001b[49m\u001b[38;5;28;43mlist\u001b[39;49m\u001b[43m[\u001b[49m\u001b[38;5;28;43mlist\u001b[39;49m\u001b[43m[\u001b[49m\u001b[33;43m\"\u001b[39;49m\u001b[33;43mnp.ndarrray\u001b[39;49m\u001b[33;43m\"\u001b[39;49m\u001b[43m]\u001b[49m\u001b[43m]\u001b[49m\u001b[43m,\u001b[49m\n\u001b[32m     68\u001b[39m \u001b[43m    \u001b[49m\u001b[38;5;28;43mlist\u001b[39;49m\u001b[43m[\u001b[49m\u001b[38;5;28;43mlist\u001b[39;49m\u001b[43m[\u001b[49m\u001b[33;43m\"\u001b[39;49m\u001b[33;43mtorch.Tensor\u001b[39;49m\u001b[33;43m\"\u001b[39;49m\u001b[43m]\u001b[49m\u001b[43m]\u001b[49m\u001b[43m,\u001b[49m\n\u001b[32m     69\u001b[39m \u001b[43m]\u001b[49m  \u001b[38;5;66;03m# noqa\u001b[39;00m\n\u001b[32m     72\u001b[39m \u001b[38;5;129m@dataclass\u001b[39m\n\u001b[32m     73\u001b[39m \u001b[38;5;28;01mclass\u001b[39;00m\u001b[38;5;250m \u001b[39m\u001b[34;01mVideoMetadata\u001b[39;00m:\n\u001b[32m     74\u001b[39m     total_num_frames: \u001b[38;5;28mint\u001b[39m\n",
      "\u001b[36mFile \u001b[39m\u001b[32m~/.local/share/uv/python/cpython-3.12.10-linux-x86_64-gnu/lib/python3.12/typing.py:395\u001b[39m, in \u001b[36m_tp_cache.<locals>.decorator.<locals>.inner\u001b[39m\u001b[34m(*args, **kwds)\u001b[39m\n\u001b[32m    392\u001b[39m \u001b[38;5;129m@functools\u001b[39m.wraps(func)\n\u001b[32m    393\u001b[39m \u001b[38;5;28;01mdef\u001b[39;00m\u001b[38;5;250m \u001b[39m\u001b[34minner\u001b[39m(*args, **kwds):\n\u001b[32m    394\u001b[39m     \u001b[38;5;28;01mtry\u001b[39;00m:\n\u001b[32m--> \u001b[39m\u001b[32m395\u001b[39m         \u001b[38;5;28;01mreturn\u001b[39;00m \u001b[43m_caches\u001b[49m\u001b[43m[\u001b[49m\u001b[43mfunc\u001b[49m\u001b[43m]\u001b[49m\u001b[43m(\u001b[49m\u001b[43m*\u001b[49m\u001b[43margs\u001b[49m\u001b[43m,\u001b[49m\u001b[43m \u001b[49m\u001b[43m*\u001b[49m\u001b[43m*\u001b[49m\u001b[43mkwds\u001b[49m\u001b[43m)\u001b[49m\n\u001b[32m    396\u001b[39m     \u001b[38;5;28;01mexcept\u001b[39;00m \u001b[38;5;167;01mTypeError\u001b[39;00m:\n\u001b[32m    397\u001b[39m         \u001b[38;5;28;01mpass\u001b[39;00m  \u001b[38;5;66;03m# All real errors (not unhashable args) are raised below.\u001b[39;00m\n",
      "\u001b[36mFile \u001b[39m\u001b[32m~/.local/share/uv/python/cpython-3.12.10-linux-x86_64-gnu/lib/python3.12/typing.py:517\u001b[39m, in \u001b[36m_SpecialForm.__getitem__\u001b[39m\u001b[34m(self, parameters)\u001b[39m\n\u001b[32m    515\u001b[39m \u001b[38;5;129m@_tp_cache\u001b[39m\n\u001b[32m    516\u001b[39m \u001b[38;5;28;01mdef\u001b[39;00m\u001b[38;5;250m \u001b[39m\u001b[34m__getitem__\u001b[39m(\u001b[38;5;28mself\u001b[39m, parameters):\n\u001b[32m--> \u001b[39m\u001b[32m517\u001b[39m     \u001b[38;5;28;01mreturn\u001b[39;00m \u001b[38;5;28;43mself\u001b[39;49m\u001b[43m.\u001b[49m\u001b[43m_getitem\u001b[49m\u001b[43m(\u001b[49m\u001b[38;5;28;43mself\u001b[39;49m\u001b[43m,\u001b[49m\u001b[43m \u001b[49m\u001b[43mparameters\u001b[49m\u001b[43m)\u001b[49m\n",
      "\u001b[36mFile \u001b[39m\u001b[32m~/.local/share/uv/python/cpython-3.12.10-linux-x86_64-gnu/lib/python3.12/typing.py:730\u001b[39m, in \u001b[36mUnion\u001b[39m\u001b[34m(self, parameters)\u001b[39m\n\u001b[32m    728\u001b[39m     parameters = (parameters,)\n\u001b[32m    729\u001b[39m msg = \u001b[33m\"\u001b[39m\u001b[33mUnion[arg, ...]: each arg must be a type.\u001b[39m\u001b[33m\"\u001b[39m\n\u001b[32m--> \u001b[39m\u001b[32m730\u001b[39m parameters = \u001b[38;5;28;43mtuple\u001b[39;49m\u001b[43m(\u001b[49m\u001b[43m_type_check\u001b[49m\u001b[43m(\u001b[49m\u001b[43mp\u001b[49m\u001b[43m,\u001b[49m\u001b[43m \u001b[49m\u001b[43mmsg\u001b[49m\u001b[43m)\u001b[49m\u001b[43m \u001b[49m\u001b[38;5;28;43;01mfor\u001b[39;49;00m\u001b[43m \u001b[49m\u001b[43mp\u001b[49m\u001b[43m \u001b[49m\u001b[38;5;129;43;01min\u001b[39;49;00m\u001b[43m \u001b[49m\u001b[43mparameters\u001b[49m\u001b[43m)\u001b[49m\n\u001b[32m    731\u001b[39m parameters = _remove_dups_flatten(parameters)\n\u001b[32m    732\u001b[39m \u001b[38;5;28;01mif\u001b[39;00m \u001b[38;5;28mlen\u001b[39m(parameters) == \u001b[32m1\u001b[39m:\n",
      "\u001b[36mFile \u001b[39m\u001b[32m~/.local/share/uv/python/cpython-3.12.10-linux-x86_64-gnu/lib/python3.12/typing.py:730\u001b[39m, in \u001b[36m<genexpr>\u001b[39m\u001b[34m(.0)\u001b[39m\n\u001b[32m    728\u001b[39m     parameters = (parameters,)\n\u001b[32m    729\u001b[39m msg = \u001b[33m\"\u001b[39m\u001b[33mUnion[arg, ...]: each arg must be a type.\u001b[39m\u001b[33m\"\u001b[39m\n\u001b[32m--> \u001b[39m\u001b[32m730\u001b[39m parameters = \u001b[38;5;28mtuple\u001b[39m(\u001b[43m_type_check\u001b[49m\u001b[43m(\u001b[49m\u001b[43mp\u001b[49m\u001b[43m,\u001b[49m\u001b[43m \u001b[49m\u001b[43mmsg\u001b[49m\u001b[43m)\u001b[49m \u001b[38;5;28;01mfor\u001b[39;00m p \u001b[38;5;129;01min\u001b[39;00m parameters)\n\u001b[32m    731\u001b[39m parameters = _remove_dups_flatten(parameters)\n\u001b[32m    732\u001b[39m \u001b[38;5;28;01mif\u001b[39;00m \u001b[38;5;28mlen\u001b[39m(parameters) == \u001b[32m1\u001b[39m:\n",
      "\u001b[36mFile \u001b[39m\u001b[32m~/.local/share/uv/python/cpython-3.12.10-linux-x86_64-gnu/lib/python3.12/typing.py:193\u001b[39m, in \u001b[36m_type_check\u001b[39m\u001b[34m(arg, msg, is_argument, module, allow_special_forms)\u001b[39m\n\u001b[32m    190\u001b[39m     \u001b[38;5;28;01mif\u001b[39;00m is_argument:\n\u001b[32m    191\u001b[39m         invalid_generic_forms += (Final,)\n\u001b[32m--> \u001b[39m\u001b[32m193\u001b[39m arg = \u001b[43m_type_convert\u001b[49m\u001b[43m(\u001b[49m\u001b[43marg\u001b[49m\u001b[43m,\u001b[49m\u001b[43m \u001b[49m\u001b[43mmodule\u001b[49m\u001b[43m=\u001b[49m\u001b[43mmodule\u001b[49m\u001b[43m,\u001b[49m\u001b[43m \u001b[49m\u001b[43mallow_special_forms\u001b[49m\u001b[43m=\u001b[49m\u001b[43mallow_special_forms\u001b[49m\u001b[43m)\u001b[49m\n\u001b[32m    194\u001b[39m \u001b[38;5;28;01mif\u001b[39;00m (\u001b[38;5;28misinstance\u001b[39m(arg, _GenericAlias) \u001b[38;5;129;01mand\u001b[39;00m\n\u001b[32m    195\u001b[39m         arg.__origin__ \u001b[38;5;129;01min\u001b[39;00m invalid_generic_forms):\n\u001b[32m    196\u001b[39m     \u001b[38;5;28;01mraise\u001b[39;00m \u001b[38;5;167;01mTypeError\u001b[39;00m(\u001b[33mf\u001b[39m\u001b[33m\"\u001b[39m\u001b[38;5;132;01m{\u001b[39;00marg\u001b[38;5;132;01m}\u001b[39;00m\u001b[33m is not valid as type argument\u001b[39m\u001b[33m\"\u001b[39m)\n",
      "\u001b[36mFile \u001b[39m\u001b[32m~/.local/share/uv/python/cpython-3.12.10-linux-x86_64-gnu/lib/python3.12/typing.py:171\u001b[39m, in \u001b[36m_type_convert\u001b[39m\u001b[34m(arg, module, allow_special_forms)\u001b[39m\n\u001b[32m    169\u001b[39m     \u001b[38;5;28;01mreturn\u001b[39;00m \u001b[38;5;28mtype\u001b[39m(\u001b[38;5;28;01mNone\u001b[39;00m)\n\u001b[32m    170\u001b[39m \u001b[38;5;28;01mif\u001b[39;00m \u001b[38;5;28misinstance\u001b[39m(arg, \u001b[38;5;28mstr\u001b[39m):\n\u001b[32m--> \u001b[39m\u001b[32m171\u001b[39m     \u001b[38;5;28;01mreturn\u001b[39;00m \u001b[43mForwardRef\u001b[49m\u001b[43m(\u001b[49m\u001b[43marg\u001b[49m\u001b[43m,\u001b[49m\u001b[43m \u001b[49m\u001b[43mmodule\u001b[49m\u001b[43m=\u001b[49m\u001b[43mmodule\u001b[49m\u001b[43m,\u001b[49m\u001b[43m \u001b[49m\u001b[43mis_class\u001b[49m\u001b[43m=\u001b[49m\u001b[43mallow_special_forms\u001b[49m\u001b[43m)\u001b[49m\n\u001b[32m    172\u001b[39m \u001b[38;5;28;01mreturn\u001b[39;00m arg\n",
      "\u001b[36mFile \u001b[39m\u001b[32m~/.local/share/uv/python/cpython-3.12.10-linux-x86_64-gnu/lib/python3.12/typing.py:904\u001b[39m, in \u001b[36mForwardRef.__init__\u001b[39m\u001b[34m(self, arg, is_argument, module, is_class)\u001b[39m\n\u001b[32m    902\u001b[39m     arg_to_compile = arg\n\u001b[32m    903\u001b[39m \u001b[38;5;28;01mtry\u001b[39;00m:\n\u001b[32m--> \u001b[39m\u001b[32m904\u001b[39m     code = \u001b[38;5;28;43mcompile\u001b[39;49m\u001b[43m(\u001b[49m\u001b[43marg_to_compile\u001b[49m\u001b[43m,\u001b[49m\u001b[43m \u001b[49m\u001b[33;43m'\u001b[39;49m\u001b[33;43m<string>\u001b[39;49m\u001b[33;43m'\u001b[39;49m\u001b[43m,\u001b[49m\u001b[43m \u001b[49m\u001b[33;43m'\u001b[39;49m\u001b[33;43meval\u001b[39;49m\u001b[33;43m'\u001b[39;49m\u001b[43m)\u001b[49m\n\u001b[32m    905\u001b[39m \u001b[38;5;28;01mexcept\u001b[39;00m \u001b[38;5;167;01mSyntaxError\u001b[39;00m:\n\u001b[32m    906\u001b[39m     \u001b[38;5;28;01mraise\u001b[39;00m \u001b[38;5;167;01mSyntaxError\u001b[39;00m(\u001b[33mf\u001b[39m\u001b[33m\"\u001b[39m\u001b[33mForward reference must be an expression -- got \u001b[39m\u001b[38;5;132;01m{\u001b[39;00marg\u001b[38;5;132;01m!r}\u001b[39;00m\u001b[33m\"\u001b[39m)\n",
      "\u001b[31mKeyboardInterrupt\u001b[39m: "
     ]
    }
   ],
   "source": [
    "import numpy as np\n",
    "import torch\n",
    "from pathlib import Path\n",
    "\n",
    "from configs import params_v4\n",
    "from data_textart import (\n",
    "    TextArtDataset,\n",
    "    TextArtBatchCollate,\n",
    "    TextBatchCollate,\n",
    ")\n",
    "from model import GradTTS\n",
    "from torch.utils.data import DataLoader\n",
    "\n",
    "from paths import DATA_DIR, CKPT_DIR, ENCODED_AUDIO_EN_DIR\n",
    "from text.symbols import symbols"
   ]
  },
  {
   "cell_type": "code",
   "execution_count": null,
   "id": "6988e906",
   "metadata": {},
   "outputs": [],
   "source": [
    "device='cpu'\n",
    "\n",
    "add_blank = params_v4.add_blank\n",
    "nsymbols = len(symbols) + 1 if add_blank else len(symbols)\n",
    "\n",
    "model = GradTTS(\n",
    "        nsymbols,\n",
    "        params_v4.n_spks,\n",
    "        None if params_v4.n_spks == 1 else params_v4.spk_embed_dim,\n",
    "        params_v4.n_enc_channels,\n",
    "        params_v4.filter_channels,\n",
    "        params_v4.filter_channels_dp,\n",
    "        params_v4.n_heads,\n",
    "        params_v4.n_enc_layers,\n",
    "        params_v4.enc_kernel,\n",
    "        params_v4.enc_dropout,\n",
    "        params_v4.window_size,\n",
    "        params_v4.n_feats,\n",
    "        params_v4.dec_dim,\n",
    "        params_v4.beta_min,\n",
    "        params_v4.beta_max,\n",
    "        params_v4.pe_scale,\n",
    "    ).to(device)\n",
    "\n",
    "dataset_obj = TextArtDataset(\n",
    "        params_v4.train_filelist_path,\n",
    "        cmudict_path=params_v4.cmudict_path,\n",
    "        data_root_dir=DATA_DIR,\n",
    "        add_blank=params_v4.add_blank,\n",
    "        reorder_feats=params_v4.reorder_feats,\n",
    "        pitch_idx=params_v4.pitch_idx,\n",
    "        log_normalize_loudness=params_v4.log_normalize_loudness,\n",
    "        loudness_idx=params_v4.loudness_idx,\n",
    "        load_coder=False,\n",
    "        sparc_ckpt_path=params_v4.sparc_ckpt_path,\n",
    "    )\n",
    "\n",
    "reorder_feats = params_v4.reorder_feats\n",
    "filepaths_list = dataset_obj.filepaths_list\n",
    "collator = TextBatchCollate()"
   ]
  },
  {
   "cell_type": "code",
   "execution_count": null,
   "id": "4001e153",
   "metadata": {},
   "outputs": [],
   "source": [
    "truc = dataset_obj.get_pair(\n",
    "    filepaths_list[0],\n",
    ")"
   ]
  },
  {
   "cell_type": "code",
   "execution_count": null,
   "id": "9bfcaf6e",
   "metadata": {},
   "outputs": [
    {
     "data": {
      "text/plain": [
       "[<matplotlib.lines.Line2D at 0x749f7155c800>]"
      ]
     },
     "execution_count": 14,
     "metadata": {},
     "output_type": "execute_result"
    },
    {
     "data": {
      "image/png": "[encoded data removed]",
      "text/plain": [
       "<Figure size 640x480 with 1 Axes>"
      ]
     },
     "metadata": {},
     "output_type": "display_data"
    }
   ],
   "source": [
    "import matplotlib.pyplot as plt\n",
    "\n",
    "plt.plot(truc[1][13])"
   ]
  },
  {
   "cell_type": "code",
   "execution_count": null,
   "id": "d412ce07",
   "metadata": {},
   "outputs": [
    {
     "data": {
      "text/plain": [
       "tensor(0.0002)"
      ]
     },
     "execution_count": 16,
     "metadata": {},
     "output_type": "execute_result"
    }
   ],
   "source": [
    "L = []\n",
    "for e in filepaths_list:\n",
    "    truc = dataset_obj.get_pair(\n",
    "        e,\n",
    "    )\n",
    "    L.append(min(truc[1][13]))\n",
    "\n",
    "min(L)\n"
   ]
  },
  {
   "cell_type": "markdown",
   "id": "4779de4b",
   "metadata": {},
   "source": [
    "# v2"
   ]
  },
  {
   "cell_type": "code",
   "execution_count": null,
   "id": "464c42fb",
   "metadata": {},
   "outputs": [],
   "source": [
    "import numpy as np\n",
    "import torch\n",
    "from pathlib import Path\n",
    "\n",
    "from configs import params_v2\n",
    "from data_textmel import (\n",
    "    TextMelDataset,\n",
    "    TextMelBatchCollate,\n",
    "    TextBatchCollate,\n",
    ")\n",
    "from model import GradTTS\n",
    "from torch.utils.data import DataLoader\n",
    "\n",
    "from paths import DATA_DIR, CKPT_DIR, ENCODED_AUDIO_EN_DIR\n",
    "from text.symbols import symbols"
   ]
  },
  {
   "cell_type": "code",
   "execution_count": null,
   "id": "42101ffd",
   "metadata": {},
   "outputs": [],
   "source": [
    "device='cpu'\n",
    "\n",
    "add_blank = params_v2.add_blank\n",
    "nsymbols = len(symbols) + 1 if add_blank else len(symbols)\n",
    "\n",
    "model = GradTTS(\n",
    "        nsymbols,\n",
    "        params_v2.n_spks,\n",
    "        None if params_v2.n_spks == 1 else params_v2.spk_embed_dim,\n",
    "        params_v2.n_enc_channels,\n",
    "        params_v2.filter_channels,\n",
    "        params_v2.filter_channels_dp,\n",
    "        params_v2.n_heads,\n",
    "        params_v2.n_enc_layers,\n",
    "        params_v2.enc_kernel,\n",
    "        params_v2.enc_dropout,\n",
    "        params_v2.window_size,\n",
    "        params_v2.n_feats,\n",
    "        params_v2.dec_dim,\n",
    "        params_v2.beta_min,\n",
    "        params_v2.beta_max,\n",
    "        params_v2.pe_scale,\n",
    "    ).to(device)\n",
    "\n",
    "dataset_obj = TextMelDataset(\n",
    "        params_v2.train_filelist_path,\n",
    "        cmudict_path=params_v2.cmudict_path,\n",
    "        data_root_dir=DATA_DIR,\n",
    "        add_blank=params_v2.add_blank,\n",
    "        n_fft=params_v2.n_fft,\n",
    "        n_mels=params_v2.n_feats,\n",
    "        sample_rate=params_v2.sample_rate,\n",
    "        hop_length=params_v2.hop_length,\n",
    "        win_length=params_v2.win_length,\n",
    "        f_min=params_v2.f_min,\n",
    "        f_max=params_v2.f_max,\n",
    "    )\n",
    "\n",
    "filepaths_list = dataset_obj.filepaths_list\n",
    "collator = TextMelBatchCollate()"
   ]
  },
  {
   "cell_type": "code",
   "execution_count": null,
   "id": "9f41bde7",
   "metadata": {},
   "outputs": [],
   "source": [
    "truc = dataset_obj.get_pair(\n",
    "    filepaths_list[0],\n",
    ")"
   ]
  },
  {
   "cell_type": "code",
   "execution_count": null,
   "id": "9f2bdede",
   "metadata": {},
   "outputs": [
    {
     "data": {
      "text/plain": [
       "<matplotlib.image.AxesImage at 0x757d3e7d3770>"
      ]
     },
     "execution_count": 14,
     "metadata": {},
     "output_type": "execute_result"
    },
    {
     "data": {
      "image/png": "[encoded data removed]",
      "text/plain": [
       "<Figure size 640x480 with 1 Axes>"
      ]
     },
     "metadata": {},
     "output_type": "display_data"
    }
   ],
   "source": [
    "from utils import plot_tensor, save_plot\n",
    "import matplotlib.pyplot as plt\n",
    "\n",
    "data = plot_tensor(truc[1])\n",
    "plt.imshow(data)"
   ]
  },
  {
   "cell_type": "code",
   "execution_count": null,
   "id": "d96fea08",
   "metadata": {},
   "outputs": [],
   "source": [
    "batch = collator([dataset_obj[i] for i in range(4)])"
   ]
  },
  {
   "cell_type": "code",
   "execution_count": null,
   "id": "6c12b694",
   "metadata": {},
   "outputs": [],
   "source": [
    "valid_batch = dataset_obj.sample_test_batch(size=4)"
   ]
  },
  {
   "cell_type": "code",
   "execution_count": null,
   "id": "d5b45874",
   "metadata": {},
   "outputs": [
    {
     "name": "stdout",
     "output_type": "stream",
     "text": [
      "torch.Size([370, 80]) torch.Size([370, 80]) (759, 80)\n"
     ]
    }
   ],
   "source": [
    "from metrics import normalized_dtw_score\n",
    "\n",
    "with torch.no_grad():\n",
    "    for i, item in enumerate(valid_batch[:1]):\n",
    "        x = item[\"x\"].to(torch.long).unsqueeze(0)\n",
    "        x_lengths = torch.LongTensor([x.shape[-1]])\n",
    "        \n",
    "        y_enc, y_dec, attn = model(x, x_lengths, n_timesteps=50)\n",
    "\n",
    "        y_gt = item[\"y\"].T.cpu().numpy()  # (n_frames, n_feats)\n",
    "        y_enc_ = y_enc[0, :, :].T.cpu()\n",
    "        y_dec_ = y_dec[0, :, :].T.cpu()\n",
    "        print(y_enc_.shape, y_dec_.shape, y_gt.shape)"
   ]
  },
  {
   "cell_type": "code",
   "execution_count": null,
   "id": "e8811da4",
   "metadata": {},
   "outputs": [],
   "source": [
    "dist_gt_enc, y_gt_enc_ada, y_enc_ada = normalized_dtw_score(\n",
    "            y_gt[:,::1], y_enc_.numpy()[:,::1]\n",
    "        )\n",
    "dist_gt_dec, y_gt_dec_ada, y_dec__ada = normalized_dtw_score(\n",
    "    y_gt[:,::1], y_dec_.numpy()[:,::1]\n",
    ")"
   ]
  },
  {
   "cell_type": "markdown",
   "id": "4b50d516",
   "metadata": {},
   "source": [
    "# v3"
   ]
  },
  {
   "cell_type": "code",
   "execution_count": null,
   "id": "6e42cb12",
   "metadata": {},
   "outputs": [],
   "source": [
    "import numpy as np\n",
    "import torch\n",
    "from pathlib import Path\n",
    "\n",
    "from configs import params_v3\n",
    "from data_phnmmel import (\n",
    "    PhnmMelDataset,\n",
    "    PhnmMelBatchCollate,\n",
    ")\n",
    "from model import ArtTTS\n",
    "from torch.utils.data import DataLoader\n",
    "\n",
    "from paths import DATA_DIR"
   ]
  },
  {
   "cell_type": "code",
   "execution_count": null,
   "id": "8dc1c0d5",
   "metadata": {},
   "outputs": [],
   "source": [
    "device='cpu'\n",
    "\n",
    "model = ArtTTS(\n",
    "        params_v3.n_ipa_feats,\n",
    "        params_v3.n_spks,\n",
    "        None,\n",
    "        params_v3.n_enc_channels,\n",
    "        params_v3.filter_channels,\n",
    "        params_v3.filter_channels_dp,\n",
    "        params_v3.n_heads,\n",
    "        params_v3.n_enc_layers,\n",
    "        params_v3.enc_kernel,\n",
    "        params_v3.enc_dropout,\n",
    "        params_v3.window_size,\n",
    "        params_v3.n_feats,\n",
    "        params_v3.dec_dim,\n",
    "        params_v3.beta_min,\n",
    "        params_v3.beta_max,\n",
    "        params_v3.pe_scale,\n",
    "    ).to(device)\n",
    "\n",
    "dataset_obj = PhnmMelDataset(\n",
    "        params_v3.train_filelist_path,\n",
    "        data_root_dir=DATA_DIR,\n",
    "        n_fft=params_v3.n_fft,\n",
    "        n_mels=params_v3.n_feats,\n",
    "        sample_rate=params_v3.sample_rate,\n",
    "        hop_length=params_v3.hop_length,\n",
    "        win_length=params_v3.win_length,\n",
    "        f_min=params_v3.f_min,\n",
    "        f_max=params_v3.f_max,\n",
    "        random_seed=params_v3.random_seed,\n",
    "    )\n",
    "\n",
    "filepaths_list = dataset_obj.filepaths_list\n",
    "collator = PhnmMelBatchCollate()"
   ]
  },
  {
   "cell_type": "code",
   "execution_count": null,
   "id": "a9803933",
   "metadata": {},
   "outputs": [],
   "source": [
    "truc = dataset_obj.get_pair(\n",
    "    filepaths_list[0],\n",
    ")"
   ]
  },
  {
   "cell_type": "code",
   "execution_count": null,
   "id": "59362129",
   "metadata": {},
   "outputs": [
    {
     "data": {
      "text/plain": [
       "<matplotlib.image.AxesImage at 0x74b47fcb4920>"
      ]
     },
     "execution_count": 21,
     "metadata": {},
     "output_type": "execute_result"
    },
    {
     "data": {
      "image/png": "[encoded data removed]",
      "text/plain": [
       "<Figure size 640x480 with 1 Axes>"
      ]
     },
     "metadata": {},
     "output_type": "display_data"
    }
   ],
   "source": [
    "from utils import plot_tensor, save_plot\n",
    "import matplotlib.pyplot as plt\n",
    "\n",
    "data = plot_tensor(truc[0])\n",
    "plt.imshow(data)"
   ]
  },
  {
   "cell_type": "code",
   "execution_count": null,
   "id": "72c16092",
   "metadata": {},
   "outputs": [],
   "source": [
    "valid_batch = dataset_obj.sample_test_batch(size=4)"
   ]
  },
  {
   "cell_type": "code",
   "execution_count": null,
   "id": "92043051",
   "metadata": {},
   "outputs": [
    {
     "name": "stderr",
     "output_type": "stream",
     "text": [
      "/home/anli/Desktop/art-tts/.venv/lib/python3.12/site-packages/tslearn/bases/bases.py:15: UserWarning: h5py not installed, hdf5 features will not be supported.\n",
      "Install h5py to use hdf5 features: http://docs.h5py.org/\n",
      "  warn(h5py_msg)\n"
     ]
    },
    {
     "name": "stdout",
     "output_type": "stream",
     "text": [
      "torch.Size([51, 80]) torch.Size([51, 80]) (268, 80)\n"
     ]
    }
   ],
   "source": [
    "from metrics import normalized_dtw_score\n",
    "\n",
    "with torch.no_grad():\n",
    "    for i, item in enumerate(valid_batch[:1]):\n",
    "        x = item[\"x\"].to(torch.float32).unsqueeze(0)\n",
    "        x_lengths = torch.LongTensor([x.shape[-1]])\n",
    "        y_enc, y_dec, attn = model(x, x_lengths, n_timesteps=50)\n",
    "\n",
    "        y_gt = item[\"y\"].T.cpu().numpy()  # (n_frames, n_feats)\n",
    "        y_enc_ = y_enc[0, :, :].T.cpu()\n",
    "        y_dec_ = y_dec[0, :, :].T.cpu()\n",
    "        print(y_enc_.shape, y_dec_.shape, y_gt.shape)"
   ]
  },
  {
   "cell_type": "code",
   "execution_count": null,
   "id": "523392b8",
   "metadata": {},
   "outputs": [
    {
     "name": "stdout",
     "output_type": "stream",
     "text": [
      "49.65833395388807 856.9065772568385\n"
     ]
    }
   ],
   "source": [
    "dist_gt_enc, y_gt_enc_ada, y_enc_ada = normalized_dtw_score(\n",
    "            y_gt[:,::1], y_enc_.numpy()[:,::1]\n",
    "        )\n",
    "dist_gt_dec, y_gt_dec_ada, y_dec__ada = normalized_dtw_score(\n",
    "    y_gt[:,::1], y_dec_.numpy()[:,::1]\n",
    ")\n",
    "print(dist_gt_enc, dist_gt_dec)"
   ]
  },
  {
   "cell_type": "code",
   "execution_count": null,
   "id": "e79dbe7f",
   "metadata": {},
   "outputs": [
    {
     "data": {
      "text/plain": [
       "[{'y': tensor([[-5.9361, -6.7815, -7.3117,  ..., -9.1152, -9.3158, -8.4808],\n",
       "          [-6.4368, -6.0642, -6.3291,  ..., -8.3781, -8.0945, -7.9244],\n",
       "          [-6.4485, -5.2184, -4.8523,  ..., -7.9644, -7.1799, -7.2195],\n",
       "          ...,\n",
       "          [-8.2699, -9.1744, -8.9128,  ..., -9.4575, -9.3027, -9.4068],\n",
       "          [-7.4382, -8.2976, -8.8284,  ..., -9.4863, -9.2278, -9.2496],\n",
       "          [-8.4395, -8.8216, -8.8271,  ..., -9.3338, -9.5841, -9.4296]]),\n",
       "  'x': tensor([[ 0., -1.,  1.,  ...,  1.,  1.,  0.],\n",
       "          [ 0., -1.,  1.,  ...,  1.,  1.,  0.],\n",
       "          [ 0.,  1., -1.,  ..., -1., -1.,  0.],\n",
       "          ...,\n",
       "          [ 0.,  0.,  0.,  ...,  0.,  0.,  0.],\n",
       "          [ 0.,  0.,  0.,  ...,  0.,  0.,  0.],\n",
       "          [ 1.,  0.,  0.,  ...,  0.,  0.,  1.]])},\n",
       " {'y': tensor([[-7.3691, -6.4887, -5.5243,  ..., -8.4941, -8.2855, -7.6720],\n",
       "          [-7.5116, -6.2125, -4.9933,  ..., -6.9080, -6.5364, -6.6208],\n",
       "          [-7.0461, -5.4327, -4.0540,  ..., -5.0537, -5.2602, -6.1054],\n",
       "          ...,\n",
       "          [-5.3250, -4.8992, -5.4391,  ..., -9.8252, -9.6384, -9.1382],\n",
       "          [-5.3007, -4.9986, -5.0558,  ..., -9.4822, -9.4607, -9.4356],\n",
       "          [-5.3561, -4.8574, -4.7960,  ..., -9.6819, -9.5845, -9.6127]]),\n",
       "  'x': tensor([[ 0., -1.,  1., -1.,  1., -1., -1.,  1., -1., -1.,  1., -1., -1.,  1.,\n",
       "           -1., -1., -1.,  1., -1.,  1.,  1., -1., -1.,  1.,  1.,  1., -1.,  1.,\n",
       "           -1.,  1., -1.,  0.],\n",
       "          [ 0., -1.,  1.,  1.,  1.,  1., -1.,  1., -1.,  1.,  1.,  1.,  1.,  1.,\n",
       "           -1., -1., -1.,  1.,  1.,  1.,  1., -1.,  1.,  1.,  1.,  1.,  1.,  1.,\n",
       "           -1.,  1.,  1.,  0.],\n",
       "          [ 0.,  1., -1., -1., -1.,  1.,  1., -1.,  1., -1., -1.,  1., -1., -1.,\n",
       "            1.,  1.,  1., -1.,  1., -1., -1.,  1., -1., -1., -1., -1.,  1., -1.,\n",
       "            1., -1.,  1.,  0.],\n",
       "          [ 0.,  1.,  1.,  1.,  1., -1., -1.,  1.,  1.,  1.,  1., -1.,  1.,  1.,\n",
       "            1.,  1., -1.,  1.,  1.,  1.,  1., -1.,  1.,  1.,  1.,  1., -1.,  1.,\n",
       "            1.,  1.,  1.,  0.],\n",
       "          [ 0., -1., -1., -1.,  0., -1., -1., -1., -1., -1., -1., -1., -1.,  0.,\n",
       "           -1., -1., -1., -1., -1., -1., -1., -1., -1., -1., -1., -1., -1., -1.,\n",
       "           -1., -1., -1.,  0.],\n",
       "          [ 0., -1., -1., -1., -1., -1., -1., -1., -1., -1., -1., -1., -1., -1.,\n",
       "           -1., -1., -1., -1.,  1., -1., -1., -1., -1., -1., -1., -1., -1., -1.,\n",
       "           -1., -1.,  1.,  0.],\n",
       "          [ 0., -1., -1., -1., -1.,  1., -1., -1., -1., -1., -1.,  1., -1., -1.,\n",
       "           -1., -1., -1., -1., -1., -1., -1., -1., -1., -1., -1., -1.,  1., -1.,\n",
       "           -1., -1., -1.,  0.],\n",
       "          [ 0.,  0.,  0.,  0.,  0.,  0.,  0.,  0.,  1.,  0.,  0.,  0.,  0.,  0.,\n",
       "            1.,  1.,  0.,  0.,  0.,  0.,  0.,  0.,  0.,  0.,  0.,  0.,  0.,  0.,\n",
       "            1.,  0.,  0.,  0.],\n",
       "          [ 0.,  1.,  1.,  1.,  1.,  1., -1.,  1.,  1.,  1.,  1.,  1.,  1.,  1.,\n",
       "            1., -1., -1.,  1.,  1.,  1.,  1., -1.,  1.,  1.,  1.,  1.,  1.,  1.,\n",
       "            1.,  1.,  1.,  0.],\n",
       "          [ 0., -1., -1., -1., -1., -1., -1., -1., -1., -1., -1., -1., -1., -1.,\n",
       "           -1., -1., -1., -1., -1., -1., -1., -1., -1., -1., -1., -1., -1., -1.,\n",
       "           -1., -1., -1.,  0.],\n",
       "          [ 0., -1., -1., -1., -1., -1., -1., -1., -1., -1., -1., -1., -1., -1.,\n",
       "           -1., -1., -1., -1., -1., -1., -1., -1., -1., -1., -1., -1., -1., -1.,\n",
       "           -1., -1., -1.,  0.],\n",
       "          [ 0.,  1.,  0., -1.,  0.,  1.,  1.,  0.,  1.,  1.,  0.,  1., -1.,  0.,\n",
       "            1.,  1.,  1.,  0.,  1.,  0.,  0., -1.,  1.,  0.,  0.,  0., -1.,  0.,\n",
       "            1.,  0.,  1.,  0.],\n",
       "          [ 0.,  1., -1., -1., -1.,  1.,  1., -1., -1.,  1., -1., -1., -1., -1.,\n",
       "            1.,  1.,  1., -1.,  1., -1., -1., -1.,  1., -1., -1., -1., -1., -1.,\n",
       "           -1., -1.,  1.,  0.],\n",
       "          [ 0.,  1.,  0.,  0.,  0., -1., -1.,  0.,  0., -1.,  0.,  0.,  0.,  0.,\n",
       "           -1., -1., -1.,  0., -1.,  0.,  0.,  0., -1.,  0.,  0.,  0.,  0.,  0.,\n",
       "            0.,  0., -1.,  0.],\n",
       "          [ 0., -1., -1.,  1., -1., -1., -1., -1.,  1., -1.,  1.,  1.,  1., -1.,\n",
       "           -1., -1., -1., -1., -1., -1., -1., -1., -1., -1., -1., -1., -1., -1.,\n",
       "            1., -1., -1.,  0.],\n",
       "          [ 0., -1., -1.,  1., -1., -1., -1., -1., -1.,  1.,  1., -1.,  1., -1.,\n",
       "           -1., -1., -1.,  1., -1., -1.,  1.,  1.,  1., -1.,  1.,  1.,  1.,  1.,\n",
       "           -1., -1., -1.,  0.],\n",
       "          [ 0., -1., -1., -1.,  1., -1., -1., -1., -1., -1., -1., -1., -1.,  1.,\n",
       "           -1., -1., -1., -1., -1., -1., -1., -1., -1.,  1., -1., -1., -1., -1.,\n",
       "           -1., -1., -1.,  0.],\n",
       "          [ 0., -1.,  1.,  1.,  1., -1., -1.,  1., -1.,  1.,  1., -1.,  1.,  1.,\n",
       "           -1., -1., -1., -1., -1., -1., -1.,  1.,  1., -1., -1., -1.,  1., -1.,\n",
       "           -1.,  1., -1.,  0.],\n",
       "          [ 0., -1., -1.,  1., -1., -1., -1., -1., -1.,  1.,  1., -1.,  1., -1.,\n",
       "           -1., -1., -1., -1., -1., -1., -1., -1.,  1., -1., -1., -1., -1., -1.,\n",
       "           -1., -1., -1.,  0.],\n",
       "          [ 0., -1., -1., -1., -1., -1., -1., -1., -1., -1., -1., -1., -1., -1.,\n",
       "           -1., -1., -1., -1., -1., -1., -1., -1., -1., -1., -1., -1., -1., -1.,\n",
       "           -1., -1., -1.,  0.],\n",
       "          [ 0.,  0., -1.,  0.,  1.,  0.,  0.,  1.,  0.,  0.,  1.,  0.,  0.,  1.,\n",
       "            0.,  0.,  0., -1.,  0.,  1., -1.,  0.,  0.,  1., -1., -1.,  0.,  1.,\n",
       "            0., -1.,  0.,  0.],\n",
       "          [ 0., -1., -1., -1., -1., -1., -1., -1., -1., -1., -1., -1., -1., -1.,\n",
       "           -1., -1., -1., -1., -1., -1., -1., -1., -1., -1., -1., -1., -1., -1.,\n",
       "           -1., -1., -1.,  0.],\n",
       "          [ 0.,  0.,  0.,  0.,  0.,  0.,  0.,  0.,  0.,  0.,  0.,  0.,  0.,  0.,\n",
       "            0.,  0.,  0.,  0.,  0.,  0.,  0.,  0.,  0.,  0.,  0.,  0.,  0.,  0.,\n",
       "            0.,  0.,  0.,  0.],\n",
       "          [ 0.,  0.,  0.,  0.,  0.,  0.,  0.,  0.,  0.,  0.,  0.,  0.,  0.,  0.,\n",
       "            0.,  0.,  0.,  0.,  0.,  0.,  0.,  0.,  0.,  0.,  0.,  0.,  0.,  0.,\n",
       "            0.,  0.,  0.,  0.],\n",
       "          [ 1.,  0.,  0.,  0.,  0.,  0.,  0.,  0.,  0.,  0.,  0.,  0.,  0.,  0.,\n",
       "            0.,  0.,  0.,  0.,  0.,  0.,  0.,  0.,  0.,  0.,  0.,  0.,  0.,  0.,\n",
       "            0.,  0.,  0.,  1.]])},\n",
       " {'y': tensor([[-8.0151, -6.2315, -6.2590,  ..., -7.9780, -7.8248, -7.5722],\n",
       "          [-6.1194, -5.6756, -5.1112,  ..., -7.0433, -7.1967, -7.1704],\n",
       "          [-5.0882, -5.1671, -4.9039,  ..., -6.4592, -6.3964, -6.3089],\n",
       "          ...,\n",
       "          [-9.7213, -9.3731, -8.7628,  ..., -7.6227, -8.2765, -8.2996],\n",
       "          [-9.7253, -9.1980, -8.3936,  ..., -8.2141, -8.6086, -8.7031],\n",
       "          [-9.4604, -9.1232, -7.4190,  ..., -8.8442, -9.0200, -9.1624]]),\n",
       "  'x': tensor([[ 0.,  1., -1.,  ...,  1., -1.,  0.],\n",
       "          [ 0.,  1.,  1.,  ...,  1., -1.,  0.],\n",
       "          [ 0., -1.,  1.,  ..., -1.,  1.,  0.],\n",
       "          ...,\n",
       "          [ 0.,  0.,  0.,  ...,  0.,  0.,  0.],\n",
       "          [ 0.,  0.,  0.,  ...,  0.,  0.,  0.],\n",
       "          [ 1.,  0.,  0.,  ...,  0.,  0.,  1.]])},\n",
       " {'y': tensor([[-6.5632, -6.2418, -6.4820,  ..., -8.3117, -8.0225, -6.7628],\n",
       "          [-6.0518, -5.3203, -5.6739,  ..., -7.2782, -7.1916, -6.3425],\n",
       "          [-5.5691, -4.6108, -4.3423,  ..., -5.6824, -5.8518, -5.5594],\n",
       "          ...,\n",
       "          [-9.2530, -9.1522, -8.5517,  ..., -9.2041, -9.3094, -9.3679],\n",
       "          [-9.9071, -9.3656, -8.6214,  ..., -9.6557, -9.5254, -9.5349],\n",
       "          [-9.7800, -8.9821, -8.1392,  ..., -9.5741, -9.6188, -9.4642]]),\n",
       "  'x': tensor([[ 0., -1.,  1.,  ...,  1., -1.,  0.],\n",
       "          [ 0.,  1.,  1.,  ...,  1.,  1.,  0.],\n",
       "          [ 0., -1., -1.,  ..., -1.,  1.,  0.],\n",
       "          ...,\n",
       "          [ 0.,  0.,  0.,  ...,  0.,  0.,  0.],\n",
       "          [ 0.,  0.,  0.,  ...,  0.,  0.,  0.],\n",
       "          [ 1.,  0.,  0.,  ...,  0.,  0.,  1.]])}]"
      ]
     },
     "execution_count": 18,
     "metadata": {},
     "output_type": "execute_result"
    }
   ],
   "source": [
    "valid_batch"
   ]
  },
  {
   "cell_type": "code",
   "execution_count": null,
   "id": "184d411e",
   "metadata": {},
   "outputs": [
    {
     "data": {
      "text/plain": [
       "torch.float32"
      ]
     },
     "execution_count": 20,
     "metadata": {},
     "output_type": "execute_result"
    }
   ],
   "source": [
    "valid_batch[0][\"x\"].dtype"
   ]
  },
  {
   "cell_type": "code",
   "execution_count": null,
   "id": "e83d42b7",
   "metadata": {},
   "outputs": [],
   "source": [
    "with torch.no_grad():\n",
    "    for i, item in enumerate(valid_batch[:1]):\n",
    "        x = item[\"x\"].to(torch.float32).unsqueeze(0)\n",
    "        x_lengths = torch.LongTensor([x.shape[-1]])\n",
    "        y_enc, y_dec, attn = model(x, x_lengths, n_timesteps=50)\n",
    "\n",
    "        y_gt = item[\"y\"].T.cpu().numpy()  # (n_frames, n_feats)\n",
    "        y_enc_ = y_enc[0, :, :].T.cpu()  # (n_frames, n_feats)\n",
    "        y_dec_ = y_dec[0, :, :].T.cpu()  # (n_frames, n_feats)\n",
    "\n",
    "        # Compute DTW distance to targets\n",
    "        dist_gt_enc, y_gt_enc_ada, y_enc_ada = normalized_dtw_score(\n",
    "            y_gt, y_enc_.numpy()\n",
    "        )\n",
    "        dist_gt_dec, y_gt_dec_ada, y_dec_ada = normalized_dtw_score(\n",
    "            y_gt, y_dec_.numpy()\n",
    "        )"
   ]
  },
  {
   "cell_type": "markdown",
   "id": "564aed99",
   "metadata": {},
   "source": [
    "# v1"
   ]
  },
  {
   "cell_type": "code",
   "execution_count": null,
   "id": "840a5a6a",
   "metadata": {},
   "outputs": [
    {
     "name": "stderr",
     "output_type": "stream",
     "text": [
      "/home/anli/Desktop/art-tts/.venv/lib/python3.12/site-packages/tqdm/auto.py:21: TqdmWarning: IProgress not found. Please update jupyter and ipywidgets. See https://ipywidgets.readthedocs.io/en/stable/user_install.html\n",
      "  from .autonotebook import tqdm as notebook_tqdm\n"
     ]
    }
   ],
   "source": [
    "from data_phnm import PhnmArticDataset, PhnmArticBatchCollate\n",
    "from configs import params_v1_1\n",
    "from torch.utils.data import DataLoader\n",
    "from paths import DATA_DIR, CKPT_DIR, ENCODED_AUDIO_EN_DIR\n",
    "from balance_batch import get_length_grouped_indices, LengthGroupedSampler\n",
    "\n",
    "train_dataset = PhnmArticDataset(\n",
    "        params_v1_1.train_filelist_path,\n",
    "        data_root_dir=DATA_DIR,\n",
    "        reorder_feats=params_v1_1.reorder_feats,\n",
    "        pitch_idx=params_v1_1.pitch_idx,\n",
    "        loudness_idx=params_v1_1.loudness_idx,\n",
    "        log_normalize_loudness=params_v1_1.log_normalize_loudness,\n",
    "        merge_diphtongues=params_v1_1.merge_diphtongues,\n",
    "        load_coder=False,\n",
    "        sparc_ckpt_path=params_v1_1.sparc_ckpt_path,\n",
    "        shuffle=params_v1_1.shuffle,  # do not shuffle for compatibility custom sampler\n",
    "        random_seed=params_v1_1.random_seed,\n",
    "    )"
   ]
  },
  {
   "cell_type": "code",
   "execution_count": null,
   "id": "a19918a2",
   "metadata": {},
   "outputs": [
    {
     "name": "stderr",
     "output_type": "stream",
     "text": [
      "100%|██████████| 9892/9892 [00:40<00:00, 245.43it/s]\n"
     ]
    }
   ],
   "source": [
    "from tqdm import tqdm\n",
    "\n",
    "train_lengths = []\n",
    "for i in tqdm(range(len(train_dataset.filepaths_list))):\n",
    "    length = train_dataset.get_phnm_emb(phnm3_fp=train_dataset.filepaths_list[i][1]).shape[1]\n",
    "    train_lengths.append(length)"
   ]
  },
  {
   "cell_type": "code",
   "execution_count": null,
   "id": "46118ff7",
   "metadata": {},
   "outputs": [],
   "source": []
  },
  {
   "cell_type": "code",
   "execution_count": null,
   "id": "c00d242f",
   "metadata": {},
   "outputs": [],
   "source": [
    "import torch\n",
    "\n",
    "ind = get_length_grouped_indices(train_lengths, batch_size=params_v1_1.batch_size, generator=torch.manual_seed(params_v1_1.random_seed))"
   ]
  },
  {
   "cell_type": "code",
   "execution_count": null,
   "id": "de91eac4",
   "metadata": {},
   "outputs": [],
   "source": [
    "train_sampler = LengthGroupedSampler(batch_size=params_v1_1.batch_size,\n",
    "                        lengths=train_lengths,\n",
    "                        generator=torch.manual_seed(params_v1_1.random_seed),\n",
    "                        )"
   ]
  },
  {
   "cell_type": "markdown",
   "id": "b184ed9a",
   "metadata": {},
   "source": [
    "# v6"
   ]
  },
  {
   "cell_type": "code",
   "execution_count": null,
   "id": "35fc4ffe",
   "metadata": {},
   "outputs": [],
   "source": [
    "from data_ms import PhnmArticDataset, PhnmArticBatchCollate\n",
    "from configs import params_v6\n",
    "from torch.utils.data import DataLoader\n",
    "from paths import DATA_DIR\n",
    "from voxcommunis.sampler import LengthGroupedSampler, LengthGroupedLanguageUpSampler\n",
    "from voxcommunis.decoder import FeatureDecoder\n",
    "from voxcommunis.data import FeatureTokenizer\n",
    "\n",
    "import torch\n",
    "\n",
    "fd = FeatureDecoder(sum_diphthong=True)\n",
    "tokenizer = FeatureTokenizer(fd)\n",
    "\n",
    "split = \"train-20h\"\n",
    "dataset_dir = DATA_DIR / \"VoxCommunis\"\n",
    "split_dir = dataset_dir / split"
   ]
  },
  {
   "cell_type": "code",
   "execution_count": null,
   "id": "4b299f8e",
   "metadata": {},
   "outputs": [],
   "source": [
    "separate_files = False\n",
    "manifests_dir = split_dir / \"manifests\"\n",
    "alignments_dir = split_dir / \"alignments\"\n",
    "manifest_path = manifests_dir / \"it.tsv\"\n",
    "alignments_path = alignments_dir / \"it.align\"\n",
    "\n",
    "train_dataset = PhnmArticDataset(\n",
    "        dataset_dir=dataset_dir,\n",
    "        separate_files=separate_files,\n",
    "        manifest_path= manifest_path,\n",
    "        alignment_path= alignments_path,\n",
    "        feature_tokenizer=tokenizer,\n",
    "        reorder_feats=params_v6.reorder_feats,\n",
    "        pitch_idx=params_v6.pitch_idx,\n",
    "        loudness_idx=params_v6.loudness_idx,\n",
    "        log_normalize_loudness=params_v6.log_normalize_loudness,\n",
    "        random_seed=params_v6.random_seed,\n",
    "    )\n",
    "train_lengths = [train_dataset.manifest[i][1][1] for i in range(len(train_dataset))]\n",
    "train_sampler = LengthGroupedSampler(batch_size=params_v6.batch_size,\n",
    "                        lengths=train_lengths,\n",
    "                        generator=torch.manual_seed(params_v6.random_seed),\n",
    "                        )\n",
    "train_loader = DataLoader(\n",
    "        train_dataset,\n",
    "        batch_size=2,\n",
    "        shuffle=False,\n",
    "        collate_fn=PhnmArticBatchCollate(),\n",
    "        sampler=train_sampler,\n",
    "        num_workers=3,\n",
    ")"
   ]
  },
  {
   "cell_type": "code",
   "execution_count": null,
   "id": "5fe13865",
   "metadata": {},
   "outputs": [],
   "source": [
    "from model_ms import GradTTArtic\n",
    "\n",
    "device = 'cpu'\n",
    "model = GradTTArtic(\n",
    "        n_ipa_feats=params_v6.n_ipa_feats,    #26, 24 phonological traits + 1 silence dim + 1 phoneme repetition count\n",
    "        spk_emb_dim=params_v6.spk_emb_dim, # 64\n",
    "        n_enc_channels=params_v6.n_enc_channels, # 192\n",
    "        filter_channels=params_v6.filter_channels,    # 768\n",
    "        filter_channels_dp=params_v6.filter_channels_dp, # 256\n",
    "        n_heads=params_v6.n_heads,    # 2\n",
    "        n_enc_layers=params_v6.n_enc_layers,   # 6\n",
    "        enc_kernel=params_v6.enc_kernel,     # 3\n",
    "        enc_dropout=params_v6.enc_dropout,    # 0.1\n",
    "        window_size=params_v6.window_size,    # 4\n",
    "        n_feats=params_v6.n_feats,    # 16 (articulatory features)\n",
    "        dec_dim=params_v6.dec_dim,    # 64\n",
    "        beta_min=params_v6.beta_min,   # 0.05\n",
    "        beta_max=params_v6.beta_max,   # 20.0\n",
    "        pe_scale=params_v6.pe_scale,   # 1000\n",
    "        spk_preemb_dim=1024, # Similar \n",
    "    ).to(device)"
   ]
  },
  {
   "cell_type": "code",
   "execution_count": null,
   "id": "901cdbef",
   "metadata": {},
   "outputs": [],
   "source": [
    "batch = next(iter(train_loader))\n",
    "x = batch[\"x\"].to(device)\n",
    "x_lengths = torch.LongTensor(batch[\"x_lengths\"])\n",
    "y = batch[\"y\"].to(device)\n",
    "y_lengths = torch.LongTensor(batch[\"y_lengths\"])\n",
    "spk_ft = batch[\"spk_ft\"].to(device)"
   ]
  },
  {
   "cell_type": "code",
   "execution_count": null,
   "id": "3bad8649",
   "metadata": {},
   "outputs": [],
   "source": [
    "item = train_dataset[0]\n",
    "\n",
    "x = item[\"x\"].to(torch.float32).unsqueeze(0)\n",
    "x_lengths = torch.LongTensor([x.shape[-1]])\n",
    "spk_ft = item[\"spk_ft\"].unsqueeze(0).to(torch.float32)"
   ]
  },
  {
   "cell_type": "code",
   "execution_count": null,
   "id": "8cd12d7c",
   "metadata": {},
   "outputs": [],
   "source": [
    "enc, dec, attn = model(x, x_lengths, spk_ft, n_timesteps=1)"
   ]
  },
  {
   "cell_type": "code",
   "execution_count": null,
   "id": "e9f7f345",
   "metadata": {},
   "outputs": [
    {
     "data": {
      "text/plain": [
       "(torch.Size([1, 16, 101]),\n",
       " torch.Size([1, 16, 101]),\n",
       " torch.Size([1, 1, 13, 104]))"
      ]
     },
     "execution_count": 54,
     "metadata": {},
     "output_type": "execute_result"
    }
   ],
   "source": [
    "enc.shape, dec.shape, attn.shape"
   ]
  },
  {
   "cell_type": "code",
   "execution_count": null,
   "id": "3475160a",
   "metadata": {},
   "outputs": [],
   "source": [
    "batch = next(iter(train_loader))\n",
    "x = batch[\"x\"].to(device)\n",
    "x_lengths = torch.LongTensor(batch[\"x_lengths\"])\n",
    "y = batch[\"y\"].to(device)\n",
    "y_lengths = torch.LongTensor(batch[\"y_lengths\"])\n",
    "spk_ft = batch[\"spk_ft\"].to(device)"
   ]
  },
  {
   "cell_type": "code",
   "execution_count": null,
   "id": "0b806775",
   "metadata": {},
   "outputs": [],
   "source": [
    "prior_loss, diff_loss = model.compute_loss(x, x_lengths, y, y_lengths, spk_ft, out_size=params_v6.out_size)"
   ]
  },
  {
   "cell_type": "code",
   "execution_count": null,
   "id": "1d2d3bf9",
   "metadata": {},
   "outputs": [
    {
     "data": {
      "text/plain": [
       "(tensor(1.5281, grad_fn=<DivBackward0>),\n",
       " tensor(1.0510, grad_fn=<DivBackward0>))"
      ]
     },
     "execution_count": 57,
     "metadata": {},
     "output_type": "execute_result"
    }
   ],
   "source": [
    "prior_loss, diff_loss"
   ]
  },
  {
   "cell_type": "markdown",
   "id": "d3ea61eb",
   "metadata": {},
   "source": [
    "# msml"
   ]
  },
  {
   "cell_type": "code",
   "execution_count": 1,
   "id": "8b7eee34",
   "metadata": {},
   "outputs": [],
   "source": [
    "from data_ms import PhnmArticDataset, PhnmArticBatchCollate, PhnmDataset, PhnmBatchCollate\n",
    "from configs import params_msml1h\n",
    "from torch.utils.data import DataLoader\n",
    "from paths import DATA_DIR\n",
    "from voxcommunis.sampler import LengthGroupedLanguageUpSampler\n",
    "from voxcommunis.decoder import FeatureDecoder\n",
    "from voxcommunis.data import FeatureTokenizer\n",
    "\n",
    "import torch\n",
    "\n",
    "fd = FeatureDecoder(sum_diphthong=True)\n",
    "tokenizer = FeatureTokenizer(fd)\n",
    "\n",
    "split = \"train-1h\"\n",
    "dataset_dir = DATA_DIR / \"VoxCommunis\"\n",
    "split_dir = dataset_dir / split"
   ]
  },
  {
   "cell_type": "code",
   "execution_count": null,
   "id": "affe3514",
   "metadata": {},
   "outputs": [],
   "source": [
    "separate_files = True\n",
    "manifests_dir = split_dir / \"manifests\"\n",
    "alignments_dir = split_dir / \"alignments\"\n",
    "\n",
    "train_dataset = PhnmDataset(\n",
    "        dataset_dir=dataset_dir,\n",
    "        separate_files=separate_files,\n",
    "        manifest_path= manifests_dir,\n",
    "        alignment_path= alignments_dir,\n",
    "        feature_tokenizer=tokenizer,\n",
    "        reorder_feats=params_msml1h.reorder_feats,\n",
    "        pitch_idx=params_msml1h.pitch_idx,\n",
    "        loudness_idx=params_msml1h.loudness_idx,\n",
    "        log_normalize_loudness=params_msml1h.log_normalize_loudness,\n",
    "        random_seed=params_msml1h.random_seed,\n",
    "        exclude_langs=params_msml1h.exclude_langs # Exclude English for this 1h experiment\n",
    "    )\n",
    "train_lengths = [train_dataset.manifest[i][1][1] for i in range(len(train_dataset))]\n",
    "train_sampler = LengthGroupedLanguageUpSampler(\n",
    "    batch_size=params_msml1h.batch_size,\n",
    "    lengths=train_lengths,\n",
    "    lang_sizes=train_dataset.lang_sizes,\n",
    "    generator=torch.manual_seed(params_msml1h.random_seed),\n",
    "    upsample_factor=1,    \n",
    ")\n",
    "train_loader = DataLoader(\n",
    "        train_dataset,\n",
    "        batch_size=params_msml1h.batch_size,\n",
    "        shuffle=False,\n",
    "        collate_fn=PhnmBatchCollate(),\n",
    "        sampler=train_sampler,\n",
    "        num_workers=3,\n",
    ")"
   ]
  }
 ],
 "metadata": {
  "kernelspec": {
   "display_name": "art-tts",
   "language": "python",
   "name": "python3"
  },
  "language_info": {
   "codemirror_mode": {
    "name": "ipython",
    "version": 3
   },
   "file_extension": ".py",
   "mimetype": "text/x-python",
   "name": "python",
   "nbconvert_exporter": "python",
   "pygments_lexer": "ipython3",
   "version": "3.12.10"
  }
 },
 "nbformat": 4,
 "nbformat_minor": 5
}

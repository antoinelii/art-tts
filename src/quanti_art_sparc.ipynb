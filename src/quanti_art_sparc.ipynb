{
 "cells": [
  {
   "cell_type": "code",
   "execution_count": 26,
   "id": "c99e466f",
   "metadata": {},
   "outputs": [],
   "source": [
    "from pathlib import Path\n",
    "import sys\n",
    "sys.path.append(str(Path.cwd().parent))\n",
    "\n",
    "import joblib\n",
    "import pandas as pd\n",
    "import matplotlib.pyplot as plt\n",
    "import numpy as np\n",
    "import IPython.display as ipd\n",
    "import soundfile as sf\n",
    "\n",
    "from configs.params_v1 import reorder_feats\n",
    "from paths import DATA_DIR\n",
    "\n",
    "import utils_ema.ema_dataset\n",
    "\n",
    "from scipy.stats import pearsonr\n",
    "from metrics import normalized_dtw_score\n",
    "from utils import plot_art_14\n",
    "\n",
    "from tqdm import tqdm"
   ]
  },
  {
   "cell_type": "code",
   "execution_count": 25,
   "id": "6e782bd1",
   "metadata": {},
   "outputs": [
    {
     "name": "stdout",
     "output_type": "stream",
     "text": [
      "200 : 0.8075447757093651\n",
      "1000 : 0.8174644707140958\n",
      "2000 : 0.8243940229643356\n",
      "3000 : 0.8242246012713041\n",
      "4000 : 0.8229261411972614\n",
      "5000 : 0.8225834189891553\n"
     ]
    }
   ],
   "source": [
    "dataset = \"MNGU0\"\n",
    "speaker = \"s1\"\n",
    "version = \"v1_1\"\n",
    "for epoch in [200, 1000, 2000, 3000, 4000, 5000]:\n",
    "    filename = f\"quanti_art_comp_{version}_grad_{epoch}.csv\"\n",
    "    fp = DATA_DIR / dataset / \"arttts\" / speaker / \"analysis\" / filename\n",
    "    truc = pd.read_csv(fp)\n",
    "    truc =truc[['filestem', 'pcc', 'duration', 'pcc_sparc_dec',\n",
    "                'sparc_dtw_distortion']]\n",
    "    #print(len(truc))\n",
    "    #truc = truc[truc['sparc_dtw_distortion']<1]\n",
    "    #print(len(truc))\n",
    "    print(f\"{epoch} :\", truc[\"pcc_sparc_dec\"].mean())"
   ]
  },
  {
   "cell_type": "code",
   "execution_count": 29,
   "id": "02784fff",
   "metadata": {},
   "outputs": [
    {
     "name": "stdout",
     "output_type": "stream",
     "text": [
      "200 : 0.7180843322270002\n",
      "1000 : 0.7338097118800854\n",
      "2000 : 0.7395052332332891\n",
      "3000 : 0.7392542423240925\n",
      "4000 : 0.7383731689952423\n",
      "5000 : 0.7391863113633754\n"
     ]
    }
   ],
   "source": [
    "dataset = \"mocha_timit\"\n",
    "speakers = [\"faet0\", \"fsew0\", \"ffes0\", \"maps0\", \"mjjn0\", \"msak0\"]\n",
    "version = \"v1\"\n",
    "speaker = speakers[0]\n",
    "for epoch in [200, 1000, 2000, 3000, 4000, 5000]:\n",
    "    filename = f\"quanti_art_comp_{version}_grad_{epoch}.csv\"\n",
    "    fp = DATA_DIR / dataset / \"arttts\" / speaker / \"analysis\" / filename\n",
    "    truc = pd.read_csv(fp)\n",
    "    truc =truc[['filestem', 'pcc', 'duration', 'pcc_sparc_dec',\n",
    "                'sparc_dtw_distortion']]\n",
    "    #print(len(truc))\n",
    "    #truc = truc[truc['sparc_dtw_distortion']<1]\n",
    "    #print(len(truc))\n",
    "    print(f\"{epoch} :\", truc[\"pcc_sparc_dec\"].mean())"
   ]
  },
  {
   "cell_type": "code",
   "execution_count": null,
   "id": "dbcbe846",
   "metadata": {},
   "outputs": [],
   "source": []
  }
 ],
 "metadata": {
  "kernelspec": {
   "display_name": "art-tts",
   "language": "python",
   "name": "python3"
  },
  "language_info": {
   "codemirror_mode": {
    "name": "ipython",
    "version": 3
   },
   "file_extension": ".py",
   "mimetype": "text/x-python",
   "name": "python",
   "nbconvert_exporter": "python",
   "pygments_lexer": "ipython3",
   "version": "3.12.10"
  }
 },
 "nbformat": 4,
 "nbformat_minor": 5
}

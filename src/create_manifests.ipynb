{
 "cells": [
  {
   "cell_type": "code",
   "execution_count": 42,
   "id": "3c1eda8e",
   "metadata": {},
   "outputs": [],
   "source": [
    "import pandas as pd\n",
    "import numpy as np\n",
    "from pathlib import Path\n",
    "from paths import DATA_DIR, FILELISTS_DIR\n",
    "from voxcommunis.io import read_alignment, read_manifest\n",
    "from voxcommunis.data import (PanPhonInventory, FeatureTokenizer, PhoneticFeatureDataset,\n",
    "                              SAMPLE_RATE, ALIGNMENT_FREQ, MODEL_FREQ, SUBSAMPLE\n",
    ")\n",
    "from voxcommunis.decoder import UniqueSegmentFeature, UniversalUniqueSegmentFeature, FeatureDecoder\n",
    "import matplotlib.pyplot as plt\n",
    "from tqdm import tqdm\n",
    "import random\n",
    "import soundfile as sf\n",
    "\n",
    "\n",
    "vc_dir = Path(DATA_DIR) / \"VoxCommunis\""
   ]
  },
  {
   "cell_type": "markdown",
   "id": "0964d99b",
   "metadata": {},
   "source": [
    "# Create new manifests for custom datasets"
   ]
  },
  {
   "cell_type": "code",
   "execution_count": 44,
   "id": "7cbc0204",
   "metadata": {},
   "outputs": [],
   "source": [
    "def create_custom_manifest(dataset):\n",
    "    filelist_fp = FILELISTS_DIR / f\"{dataset}/total_v1.txt\"\n",
    "    manifest_fp = DATA_DIR / f\"VoxCommunis/{dataset}/manifests/{dataset}.tsv\"\n",
    "    alignment_fp = DATA_DIR / f\"VoxCommunis/{dataset}/alignments/{dataset}.align\"\n",
    "    alignment_fp.parent.mkdir(parents=True, exist_ok=True)\n",
    "    manifest_fp.parent.mkdir(parents=True, exist_ok=True)\n",
    "\n",
    "    with open(filelist_fp) as f:\n",
    "        filelist = [line.strip() for line in f.readlines()]\n",
    "    filepaths = [Path(line.split(\"|\")[0]) for line in filelist]\n",
    "    filepaths = [str(fp).replace(\"DUMMY/\",\"\") for fp in filepaths]\n",
    "\n",
    "    prefix = \"/lustre/fsn1/projects/rech/rec/commun/data\\n\"\n",
    "    lines = [prefix]\n",
    "\n",
    "    for fp in filepaths:\n",
    "        line = fp + '\\t'\n",
    "        audio, sr = sf.read(DATA_DIR / fp)\n",
    "        n_frames = len(audio)\n",
    "        line += str(n_frames) + '\\n'\n",
    "        lines.append(line)\n",
    "\n",
    "    with open(manifest_fp, 'w') as f:\n",
    "        f.writelines(lines)\n",
    "    \n",
    "create_custom_manifest(\"pb2007\")\n",
    "create_custom_manifest(\"mocha_timit\")\n",
    "create_custom_manifest(\"MSPKA_EMA_ita\")\n",
    "create_custom_manifest(\"MNGU0\")"
   ]
  },
  {
   "cell_type": "markdown",
   "id": "01055f06",
   "metadata": {},
   "source": [
    "# Create alignments for the new manifests"
   ]
  },
  {
   "cell_type": "code",
   "execution_count": 58,
   "id": "26ad427d",
   "metadata": {},
   "outputs": [],
   "source": [
    "def create_custom_alignments(dataset):\n",
    "    manifest_fp = DATA_DIR / f\"VoxCommunis/{dataset}/manifests/{dataset}.tsv\"\n",
    "    alignment_fp = DATA_DIR / f\"VoxCommunis/{dataset}/alignments/{dataset}.align\"\n",
    "    alignment_fp.parent.mkdir(parents=True, exist_ok=True)\n",
    "    with open(manifest_fp, 'r') as f:\n",
    "        lines = f.readlines()\n",
    "    wav_fps = [e.strip().split(\"\\t\")[0] for e in lines[1:]]  # skip header\n",
    "    for wav_fp in wav_fps:\n",
    "        sample_id = Path(wav_fp).stem\n",
    "        line = sample_id + '\\t'\n",
    "        phnm3_fp = wav_fp.replace(\"/wavs/\", \"/phnm3/\")\n",
    "        phnm3_fp = phnm3_fp.replace(\".wav\", \"_phnm3.npy\")\n",
    "        phnm3 = np.load(DATA_DIR / phnm3_fp)\n",
    "        for (start, end, phnm) in phnm3:\n",
    "            start = float(start)\n",
    "            end = float(end)\n",
    "            delta = end - start\n",
    "            mutiply = int(delta * ALIGNMENT_FREQ)\n",
    "            if phnm == \".\":\n",
    "                phnm = \"SIL\"\n",
    "            for _ in range(mutiply):\n",
    "                line += phnm + ' '\n",
    "        line = line.strip() + '\\n'\n",
    "        with open(alignment_fp, 'a') as f:\n",
    "            f.write(line)\n",
    "\n",
    "create_custom_alignments(\"pb2007\")\n",
    "create_custom_alignments(\"mocha_timit\")\n",
    "create_custom_alignments(\"MSPKA_EMA_ita\")\n",
    "create_custom_alignments(\"MNGU0\")"
   ]
  },
  {
   "cell_type": "code",
   "execution_count": null,
   "id": "aa900f77",
   "metadata": {},
   "outputs": [],
   "source": []
  }
 ],
 "metadata": {
  "kernelspec": {
   "display_name": "art-tts",
   "language": "python",
   "name": "python3"
  },
  "language_info": {
   "codemirror_mode": {
    "name": "ipython",
    "version": 3
   },
   "file_extension": ".py",
   "mimetype": "text/x-python",
   "name": "python",
   "nbconvert_exporter": "python",
   "pygments_lexer": "ipython3",
   "version": "3.12.10"
  }
 },
 "nbformat": 4,
 "nbformat_minor": 5
}

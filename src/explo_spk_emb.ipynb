{
 "cells": [
  {
   "cell_type": "code",
   "execution_count": null,
   "id": "8e9285a5",
   "metadata": {},
   "outputs": [],
   "source": [
    "from paths import ENCODED_AUDIO_EN_DIR\n",
    "from pathlib import Path\n",
    "import numpy as np\n",
    "\n",
    "spk_dir = ENCODED_AUDIO_EN_DIR / 'spk_emb'\n",
    "\n",
    "files = list(spk_dir.glob('*.npy'))"
   ]
  },
  {
   "cell_type": "code",
   "execution_count": null,
   "id": "67b0dbe4",
   "metadata": {},
   "outputs": [],
   "source": [
    "spk_embs = []\n",
    "for file in files:\n",
    "    spk_emb = np.load(file)\n",
    "    spk_embs.append(spk_emb)\n",
    "spk_embs = np.array(spk_embs)\n",
    "print(f'Loaded {len(spk_embs)} speaker embeddings from {spk_dir}')"
   ]
  },
  {
   "cell_type": "code",
   "execution_count": null,
   "id": "016e3027",
   "metadata": {},
   "outputs": [],
   "source": [
    "spk_embs.std(axis=0, keepdims=True)"
   ]
  },
  {
   "cell_type": "code",
   "execution_count": null,
   "id": "c53f049d",
   "metadata": {},
   "outputs": [],
   "source": [
    "import matplotlib.pyplot as plt\n",
    "\n",
    "plt.figure(figsize=(10, 5))\n",
    "plt.xlabel('emb dimension')\n",
    "plt.ylabel('value')\n",
    "#plot the mean of the speaker embeddings and the standard deviation around it\n",
    "plt.plot(np.mean(spk_embs, axis=0), label='mean')\n",
    "plt.fill_between(\n",
    "    np.arange(spk_embs.shape[1]),\n",
    "    np.mean(spk_embs, axis=0) - spk_embs.std(axis=0),\n",
    "    np.mean(spk_embs, axis=0) + spk_embs.std(axis=0),\n",
    "    alpha=0.6,\n",
    "    label='std dev'\n",
    ")\n",
    "plt.fill_between(\n",
    "    np.arange(spk_embs.shape[1]),\n",
    "    np.min(spk_embs, axis=0),\n",
    "    np.max(spk_embs, axis=0),\n",
    "    alpha=0.3,\n",
    "    label='min/max',\n",
    "    color='green'\n",
    ")\n",
    "plt.title('Speaker Embeddings Mean and Standard Deviation')\n",
    "plt.grid()\n",
    "plt.legend();"
   ]
  },
  {
   "cell_type": "code",
   "execution_count": null,
   "id": "6aab77aa",
   "metadata": {},
   "outputs": [],
   "source": []
  }
 ],
 "metadata": {
  "kernelspec": {
   "display_name": ".venv",
   "language": "python",
   "name": "python3"
  },
  "language_info": {
   "codemirror_mode": {
    "name": "ipython",
    "version": 3
   },
   "file_extension": ".py",
   "mimetype": "text/x-python",
   "name": "python",
   "nbconvert_exporter": "python",
   "pygments_lexer": "ipython3",
   "version": "3.12.10"
  }
 },
 "nbformat": 4,
 "nbformat_minor": 5
}
